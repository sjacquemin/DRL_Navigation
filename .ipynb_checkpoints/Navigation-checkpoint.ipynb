{
 "cells": [
  {
   "cell_type": "markdown",
   "metadata": {},
   "source": [
    "# Navigation\n",
    "\n",
    "---\n",
    "\n",
    "In this notebook, you will learn how to use the Unity ML-Agents environment for the first project of the [Deep Reinforcement Learning Nanodegree](https://www.udacity.com/course/deep-reinforcement-learning-nanodegree--nd893).\n",
    "\n"
   ]
  },
  {
   "cell_type": "markdown",
   "metadata": {},
   "source": [
    "<div class=\"alert alert-block alert-warning\">\n",
    "<b>Caution:</b> You will need to create the proper python virtual environment.  The environment specifications can be found in the requirements.txt file.\n",
    "<br>\n",
    "Using Anaconda is recommended.  To begin, execute the code below from your anaconda command prompt:<br>\n",
    "<br>\n",
    "$ conda env create -f environment.yaml\n",
    "<br>\n",
    "<br>\n",
    "Then navigate to the directory for this project where you downloaded it on your PC and launch jupyter notebook from there.\n",
    "</div>"
   ]
  },
  {
   "cell_type": "markdown",
   "metadata": {},
   "source": [
    "### 1. Start the Environment\n",
    "\n",
    "We begin by importing some necessary packages.  If the code cell below returns an error, please revisit the project instructions to double-check that you have installed [Unity ML-Agents](https://github.com/Unity-Technologies/ml-agents/blob/master/docs/Installation.md) and [NumPy](http://www.numpy.org/)."
   ]
  },
  {
   "cell_type": "code",
   "execution_count": 1,
   "metadata": {},
   "outputs": [],
   "source": [
    "from unityagents import UnityEnvironment\n",
    "import numpy as np"
   ]
  },
  {
   "cell_type": "markdown",
   "metadata": {},
   "source": [
    "Next, we will start the environment!  **_Before running the code cell below_**, change the `file_name` parameter to match the location of the Unity environment that you downloaded.\n",
    "\n",
    "- **Mac**: `\"path/to/Banana.app\"`\n",
    "- **Windows** (x86): `\"path/to/Banana_Windows_x86/Banana.exe\"`\n",
    "- **Windows** (x86_64): `\"path/to/Banana_Windows_x86_64/Banana.exe\"`\n",
    "- **Linux** (x86): `\"path/to/Banana_Linux/Banana.x86\"`\n",
    "- **Linux** (x86_64): `\"path/to/Banana_Linux/Banana.x86_64\"`\n",
    "- **Linux** (x86, headless): `\"path/to/Banana_Linux_NoVis/Banana.x86\"`\n",
    "- **Linux** (x86_64, headless): `\"path/to/Banana_Linux_NoVis/Banana.x86_64\"`\n",
    "\n",
    "For instance, if you are using a Mac, then you downloaded `Banana.app`.  If this file is in the same folder as the notebook, then the line below should appear as follows:\n",
    "```\n",
    "env = UnityEnvironment(file_name=\"Banana.app\")\n",
    "```"
   ]
  },
  {
   "cell_type": "code",
   "execution_count": 2,
   "metadata": {},
   "outputs": [
    {
     "name": "stderr",
     "output_type": "stream",
     "text": [
      "INFO:unityagents:\n",
      "'Academy' started successfully!\n",
      "Unity Academy name: Academy\n",
      "        Number of Brains: 1\n",
      "        Number of External Brains : 1\n",
      "        Lesson number : 0\n",
      "        Reset Parameters :\n",
      "\t\t\n",
      "Unity brain name: BananaBrain\n",
      "        Number of Visual Observations (per agent): 0\n",
      "        Vector Observation space type: continuous\n",
      "        Vector Observation space size (per agent): 37\n",
      "        Number of stacked Vector Observation: 1\n",
      "        Vector Action space type: discrete\n",
      "        Vector Action space size (per agent): 4\n",
      "        Vector Action descriptions: , , , \n"
     ]
    }
   ],
   "source": [
    "env = UnityEnvironment(file_name=\"C:\\\\Users\\steph\\Documents\\deep-reinforcement-learning-master\\p1_navigation\\Banana_Windows_x86_64\\Banana.exe\")"
   ]
  },
  {
   "cell_type": "markdown",
   "metadata": {},
   "source": [
    "Environments contain **_brains_** which are responsible for deciding the actions of their associated agents. Here we check for the first brain available, and set it as the default brain we will be controlling from Python."
   ]
  },
  {
   "cell_type": "code",
   "execution_count": 3,
   "metadata": {},
   "outputs": [],
   "source": [
    "# get the default brain\n",
    "brain_name = env.brain_names[0]\n",
    "brain = env.brains[brain_name]"
   ]
  },
  {
   "cell_type": "markdown",
   "metadata": {},
   "source": [
    "### 2. Examine the State and Action Spaces\n",
    "\n",
    "The simulation contains a single agent that navigates a large environment.  At each time step, it has four actions at its disposal:\n",
    "- `0` - walk forward \n",
    "- `1` - walk backward\n",
    "- `2` - turn left\n",
    "- `3` - turn right\n",
    "\n",
    "The state space has `37` dimensions and contains the agent's velocity, along with ray-based perception of objects around agent's forward direction.  A reward of `+1` is provided for collecting a yellow banana, and a reward of `-1` is provided for collecting a blue banana. \n",
    "\n",
    "Run the code cell below to print some information about the environment."
   ]
  },
  {
   "cell_type": "code",
   "execution_count": 26,
   "metadata": {},
   "outputs": [
    {
     "name": "stdout",
     "output_type": "stream",
     "text": [
      "Number of agents: 1\n",
      "Number of actions: 4\n",
      "States look like: [0.         0.         1.         0.         0.04198606 0.\n",
      " 0.         1.         0.         0.44862783 0.         1.\n",
      " 0.         0.         0.12376072 0.         0.         1.\n",
      " 0.         0.3686454  0.         1.         0.         0.\n",
      " 0.17911078 1.         0.         0.         0.         0.35563549\n",
      " 0.         1.         0.         0.         0.49020246 0.\n",
      " 0.        ]\n",
      "States have length: 37\n"
     ]
    }
   ],
   "source": [
    "# reset the environment\n",
    "env_info = env.reset(train_mode=True)[brain_name]\n",
    "\n",
    "# number of agents in the environment\n",
    "print('Number of agents:', len(env_info.agents))\n",
    "\n",
    "# number of actions\n",
    "action_size = brain.vector_action_space_size\n",
    "print('Number of actions:', action_size)\n",
    "\n",
    "# examine the state space \n",
    "state = env_info.vector_observations[0]\n",
    "print('States look like:', state)\n",
    "state_size = len(state)\n",
    "print('States have length:', state_size)"
   ]
  },
  {
   "cell_type": "markdown",
   "metadata": {},
   "source": [
    "### 3. Take Random Actions in the Environment\n",
    "\n",
    "In the next code cell, you will learn how to use the Python API to control the agent and receive feedback from the environment.\n",
    "\n",
    "Once this cell is executed, you will watch the agent's performance, if it selects an action (uniformly) at random with each time step.  A window should pop up that allows you to observe the agent, as it moves through the environment.  \n",
    "\n",
    "Of course, as part of the project, you'll have to change the code so that the agent is able to use its experience to gradually choose better actions when interacting with the environment!"
   ]
  },
  {
   "cell_type": "code",
   "execution_count": 29,
   "metadata": {},
   "outputs": [
    {
     "name": "stdout",
     "output_type": "stream",
     "text": [
      "Score: 0.0\n"
     ]
    }
   ],
   "source": [
    "env_info = env.reset(train_mode=False)[brain_name] # reset the environment\n",
    "state = env_info.vector_observations[0]            # get the current state\n",
    "score = 0                                          # initialize the score\n",
    "\n",
    "for i in range(3):\n",
    "    env_info = env.reset(train_mode=False)[brain_name] # reset the environment\n",
    "    state = env_info.vector_observations[0]            # get the current state\n",
    "    score = 0                                          # initialize the score\n",
    "    while True:\n",
    "        action = np.random.randint(action_size)        # select an action\n",
    "        env_info = env.step(action)[brain_name]        # send the action to the environment\n",
    "        next_state = env_info.vector_observations[0]   # get the next state\n",
    "        reward = env_info.rewards[0]                   # get the reward\n",
    "        done = env_info.local_done[0]                  # see if episode has finished\n",
    "        score += reward                                # update the score\n",
    "        state = next_state                             # roll over the state to next time step\n",
    "        if done:                                       # exit loop if episode finished\n",
    "            break\n",
    "    \n",
    "print(\"Score: {}\".format(score))"
   ]
  },
  {
   "cell_type": "markdown",
   "metadata": {},
   "source": [
    "When finished, you can close the environment."
   ]
  },
  {
   "cell_type": "code",
   "execution_count": null,
   "metadata": {},
   "outputs": [],
   "source": [
    "env.close()"
   ]
  },
  {
   "cell_type": "markdown",
   "metadata": {},
   "source": [
    "<div class=\"alert alert-block alert-warning\">\n",
    "<b>Caution:</b> If you ran section 3 above, you will not be able to run the subsequent sections in this notebook.  To proceed, restart the kernel and run the notebook in order again being sure to skip and not run section 3.\n",
    "</div>"
   ]
  },
  {
   "cell_type": "markdown",
   "metadata": {},
   "source": [
    "### 4. Building our NN Model using Pytorch"
   ]
  },
  {
   "cell_type": "code",
   "execution_count": 5,
   "metadata": {},
   "outputs": [],
   "source": [
    "import torch\n",
    "import torch.nn as nn\n",
    "import torch.nn.functional as F"
   ]
  },
  {
   "cell_type": "code",
   "execution_count": 62,
   "metadata": {},
   "outputs": [],
   "source": [
    "class DeepQNetwork(nn.Module):\n",
    "    \n",
    "    def __init__(self, state_size, action_size, seed, fc1_units = 64, fc2_units = 64):\n",
    "        \n",
    "        super(DeepQNetwork, self).__init__()\n",
    "        \n",
    "        self.seed = torch.manual_seed(seed)\n",
    "        self.fc1 = nn.Linear(state_size, fc1_units)\n",
    "        self.fc2 = nn.Linear(fc1_units, fc2_units)\n",
    "        self.fc3 = nn.Linear(fc2_units, action_size)\n",
    "        \n",
    "    def forward(self, state):\n",
    "        \n",
    "        x = F.relu(self.fc1(state))\n",
    "        x = F.relu(self.fc2(x))\n",
    "        return self.fc3(x)"
   ]
  },
  {
   "cell_type": "markdown",
   "metadata": {},
   "source": [
    "### 5. Building a Replay Buffer for our Agent"
   ]
  },
  {
   "cell_type": "code",
   "execution_count": 72,
   "metadata": {},
   "outputs": [],
   "source": [
    "import random\n",
    "from collections import namedtuple, deque\n",
    "\n",
    "# Hyperparameters specific to prioritized replay\n",
    "\n",
    "PRIO_REPLAY_ALPHA = 0.6\n",
    "BETA_START = 0.4\n",
    "BETA_FRAMES = 100000\n",
    "t = 0"
   ]
  },
  {
   "cell_type": "code",
   "execution_count": 148,
   "metadata": {},
   "outputs": [],
   "source": [
    "class ReplayBuffer:\n",
    "    \n",
    "    def __init__(self, action_size, buffer_size, batch_size, seed):\n",
    "        \n",
    "        self.action_size = action_size\n",
    "        self.memory = deque(maxlen = buffer_size)\n",
    "        self.batch_size = batch_size\n",
    "        self.experience = namedtuple(\"Experience\", field_names = [\"state\", \"action\", \"reward\", \"next_state\", \"done\"])\n",
    "        self.seed = random.seed(seed)\n",
    "        \n",
    "    def add(self, state, action, reward, next_state, done):\n",
    "        \n",
    "        # adding a new experience to memory\n",
    "        \n",
    "        e = self.experience(state, action, reward, next_state, done)\n",
    "        self.memory.append(e)\n",
    "        \n",
    "    def sample(self):\n",
    "        \n",
    "        # randomly sampling a batch of experiences from memory\n",
    "        \n",
    "        experiences = random.sample(self.memory, k = self.batch_size)\n",
    "        \n",
    "        states = torch.from_numpy(np.vstack([e.state for e in experiences if e is not None])).float().to(device)\n",
    "        actions = torch.from_numpy(np.vstack([e.action for e in experiences if e is not None])).long().to(device)\n",
    "        rewards = torch.from_numpy(np.vstack([e.reward for e in experiences if e is not None])).float().to(device)\n",
    "        next_states = torch.from_numpy(np.vstack([e.next_state for e in experiences if e is not None])).float().to(device)\n",
    "        dones = torch.from_numpy(np.vstack([e.done for e in experiences if e is not None]).astype(np.uint8)).float().to(device)\n",
    "        \n",
    "        return (states, actions, rewards, next_states, dones)\n",
    "    \n",
    "    def __len__(self):\n",
    "        \n",
    "        # return the current size of memory\n",
    "        \n",
    "        return len(self.memory)\n",
    "    \n",
    "class PrioReplayBuffer:\n",
    "    \n",
    "    def __init__(self, action_size, buffer_size, batch_size, seed, prob_alpha = PRIO_REPLAY_ALPHA):\n",
    "        self.action_size = action_size\n",
    "        self.memory = deque(maxlen = buffer_size)\n",
    "        self.batch_size = batch_size\n",
    "        self.experience = namedtuple(\"Experience\", field_names = [\"state\", \"action\", \"reward\", \"next_state\", \"done\"])\n",
    "        self.seed = random.seed(seed)\n",
    "        self.priorities = np.zeros((buffer_size,), dtype = np.float32)\n",
    "        self.pos = 0\n",
    "        self.prob_alpha = prob_alpha\n",
    "        self.buffer_size = buffer_size\n",
    "        \n",
    "    def add(self, state, action, reward, next_state, done):\n",
    "        \n",
    "        max_prio = self.priorities.max() if self.memory else 1.0\n",
    "        \n",
    "        # adding a new experience to memory\n",
    "        \n",
    "        e = self.experience(state, action, reward, next_state, done)\n",
    "        if len(self.memory) < self.buffer_size:\n",
    "            self.memory.append(e)\n",
    "        else:\n",
    "            self.memory[self.pos] = e\n",
    "        self.priorities[self.pos] = max_prio\n",
    "        self.pos = (self.pos + 1) % self.buffer_size\n",
    "    \n",
    "    def sample(self, beta = 0.4):\n",
    "        \n",
    "        if len(self.memory) == self.buffer_size:\n",
    "            prios = self.priorities\n",
    "        else:\n",
    "            prios = self.priorities[:self.pos]\n",
    "        probs = prios ** self.prob_alpha\n",
    "        \n",
    "        probs /= probs.sum()\n",
    "        indices = np.random.choice(len(self.memory), self.batch_size, p = probs)\n",
    "        experiences = [self.memory[idx] for idx in indices]\n",
    "        total = len(self.memory)\n",
    "        weights = (total * probs[indices]) ** (-beta)\n",
    "        weights /= weights.max()\n",
    "        \n",
    "        # randomly sampling a batch of experiences from memory\n",
    "        \n",
    "        # experiences = random.sample(self.memory, k = self.batch_size)\n",
    "        \n",
    "        states = torch.from_numpy(np.vstack([e.state for e in experiences if e is not None])).float().to(device)\n",
    "        actions = torch.from_numpy(np.vstack([e.action for e in experiences if e is not None])).long().to(device)\n",
    "        rewards = torch.from_numpy(np.vstack([e.reward for e in experiences if e is not None])).float().to(device)\n",
    "        next_states = torch.from_numpy(np.vstack([e.next_state for e in experiences if e is not None])).float().to(device)\n",
    "        dones = torch.from_numpy(np.vstack([e.done for e in experiences if e is not None]).astype(np.uint8)).float().to(device)\n",
    "        \n",
    "        return (states, actions, rewards, next_states, dones), indices, np.array(weights, dtype = np.float32)\n",
    "    \n",
    "    def __len__(self):\n",
    "        \n",
    "        # return the current size of memory\n",
    "        \n",
    "        return len(self.memory)    \n",
    "    \n",
    "    def update_priorities(self, batch_indices, batch_priorities):\n",
    "        \n",
    "        for idx, prio in zip(batch_indices, batch_priorities):\n",
    "            self.priorities[idx] = prio\n",
    "\n",
    "        \n",
    "        "
   ]
  },
  {
   "cell_type": "markdown",
   "metadata": {},
   "source": [
    "### 6. Initializing Hyperparameters"
   ]
  },
  {
   "cell_type": "code",
   "execution_count": 149,
   "metadata": {},
   "outputs": [],
   "source": [
    "BUFFER_SIZE = int(1e5)  # replay buffer size\n",
    "BATCH_SIZE = 64         # minibatch size\n",
    "GAMMA = 0.99            # discount factor\n",
    "TAU = 1e-3              # for soft update of target network parameters\n",
    "LR = 5e-4               # learning rate\n",
    "UPDATE_EVERY = 4        # how often to update the network\n",
    "\n",
    "device = torch.device(\"cuda: 0\" if torch.cuda.is_available() else \"cpu\")\n",
    "\n"
   ]
  },
  {
   "cell_type": "markdown",
   "metadata": {},
   "source": [
    "### 7. Building the Agent"
   ]
  },
  {
   "cell_type": "code",
   "execution_count": 153,
   "metadata": {},
   "outputs": [],
   "source": [
    "import matplotlib.pyplot as plt\n",
    "\n",
    "class Agent():\n",
    "    \n",
    "    def __init__(self, state_size, action_size, seed, beta = BETA_START, prio = False):\n",
    "        \n",
    "        self.state_size = state_size\n",
    "        self.action_size = action_size\n",
    "        self.seed = random.seed(seed)\n",
    "        \n",
    "        # bringing in our NN from section 4 above\n",
    "        \n",
    "        self.qnetwork_local = DeepQNetwork(state_size, action_size, seed).to(device)\n",
    "        self.qnetwork_target = DeepQNetwork(state_size, action_size, seed).to(device)\n",
    "        self.optimizer = optim.Adam(self.qnetwork_local.parameters(), lr = LR)\n",
    "        \n",
    "        # bring in replay buffer from section 5 above\n",
    "        \n",
    "        if prio == False:\n",
    "            self.memory = ReplayBuffer(action_size, BUFFER_SIZE, BATCH_SIZE, seed)\n",
    "        else:\n",
    "            self.memory = PrioReplayBuffer(action_size, BUFFER_SIZE, BATCH_SIZE, seed)\n",
    "        \n",
    "        # initializing timestep\n",
    "        \n",
    "        self.t_step = 0\n",
    "        \n",
    "        self.beta = beta\n",
    "        self.prio = prio\n",
    "        \n",
    "    def step(self, state, action, reward, next_state, done, beta, double = False):\n",
    "        \n",
    "        # save experiences in replay memory\n",
    "        \n",
    "        self.memory.add(state, action, reward, next_state, done)\n",
    "            \n",
    "        # learn every UPDATE_EVERY time steps\n",
    "        \n",
    "        self.t_step = (self.t_step + 1) % UPDATE_EVERY\n",
    "        if self.t_step == 0:\n",
    "            \n",
    "            # if enough samples are available in memory, get random subset and learn\n",
    "            \n",
    "            if len(self.memory) > BATCH_SIZE:\n",
    "                \n",
    "                # from here on, the step function behaves differently depending on the values for the parameters of \n",
    "                    # double and prio.  If both double and prio are false, then learning occurs according to a\n",
    "                    # regular Deep Q network with a randomly sampled replay buffer.  If double is set to true,\n",
    "                    # learning occurs according to a Double Deep Q network and if prio is set to true, learning \n",
    "                    # occurs with a prioritized replay buffer\n",
    "                \n",
    "                if double == False and self.prio == False:\n",
    "                    experiences = self.memory.sample()\n",
    "                    self.learn(experiences, GAMMA)  # update value parameters as per normal Deep Q Network design\n",
    "                    \n",
    "                elif double == True and self.prio == False:\n",
    "                    \n",
    "                    # if 'double' is set to True, update value parameters using a Double Deep Q Network design\n",
    "                    \n",
    "                    experiences = self.memory.sample()\n",
    "                    states, actions, rewards, next_states, dones = experiences\n",
    "                    \n",
    "                    next_state_actions = self.qnetwork_local(next_states).max(1)[1]\n",
    "                    Q_targets_next = self.qnetwork_target(next_states).gather(1, next_state_actions.unsqueeze(-1)).detach()\n",
    "                    \n",
    "                    # the rest of the below is the same as it is in the 'learn' function\n",
    "                    \n",
    "                    Q_targets = rewards + (GAMMA * Q_targets_next * (1 - dones))\n",
    "                    Q_expected = self.qnetwork_local(states).gather(1, actions)\n",
    "                    loss = F.mse_loss(Q_expected, Q_targets)\n",
    "                    self.optimizer.zero_grad()\n",
    "                    loss.backward()\n",
    "                    self.optimizer.step()\n",
    "                    self.soft_update(self.qnetwork_local, self.qnetwork_target, TAU)\n",
    "                    \n",
    "                elif double == True and self.prio == True:\n",
    "                    \n",
    "                    # if 'double' is set to True, update value parameters using a Double Deep Q Network design\n",
    "                    # if 'prio' is set to True, use prioritized replay buffer instead of regular replay buffer\n",
    "                   \n",
    "                    experiences, batch_indices, batch_weights = self.memory.sample(beta)\n",
    "                    states, actions, rewards, next_states, dones = experiences\n",
    "                    batch_weights_v = torch.tensor(batch_weights).to(device)\n",
    "                    \n",
    "                    next_state_actions = self.qnetwork_local(next_states).max(1)[1]\n",
    "                    Q_targets_next = self.qnetwork_target(next_states).gather(1, next_state_actions.unsqueeze(-1)).detach()\n",
    "                    \n",
    "                    # the rest of the below is the same as it is in the 'learn' function\n",
    "                    \n",
    "                    Q_targets = rewards + (GAMMA * Q_targets_next * (1 - dones))\n",
    "                    Q_expected = self.qnetwork_local(states).gather(1, actions)\n",
    "\n",
    "                    losses_v = batch_weights_v * (Q_expected - Q_targets) ** 2\n",
    "                    sample_prios_v = losses_v + 1e-5\n",
    "                    losses_v = losses_v.mean()\n",
    "                    sample_prios_v = sample_prios_v[0]\n",
    "                    self.optimizer.zero_grad()\n",
    "                    losses_v.backward()\n",
    "                    self.optimizer.step()\n",
    "                    self.soft_update(self.qnetwork_local, self.qnetwork_target, TAU)\n",
    "                    self.memory.update_priorities(batch_indices, sample_prios_v.data.cpu().numpy())\n",
    "                    \n",
    "                    \n",
    "                \n",
    "    def act(self, state, eps = 0.):\n",
    "        \n",
    "        # returns actions for given state as per current epsilon-greedy policy\n",
    "        \n",
    "        state = torch.from_numpy(state).float().unsqueeze(0).to(device)\n",
    "        self.qnetwork_local.eval()\n",
    "        with torch.no_grad():\n",
    "            action_values = self.qnetwork_local(state)\n",
    "        self.qnetwork_local.train()\n",
    "        \n",
    "        # epsilon-greedy action selection\n",
    "        \n",
    "        if random.random() > eps:\n",
    "            return np.argmax(action_values.cpu().data.numpy())\n",
    "        else:\n",
    "            return random.choice(np.arange(self.action_size))\n",
    "        \n",
    "    def learn(self, experiences, gamma):\n",
    "        \n",
    "        # update value parameters using given batch of experience tuples\n",
    "        \n",
    "        states, actions, rewards, next_states, dones = experiences\n",
    "        \n",
    "        # get max predicted Q values for next states from target model\n",
    "        \n",
    "        Q_targets_next = self.qnetwork_target(next_states).detach().max(1)[0].unsqueeze(1)\n",
    "        \n",
    "        # compute Q targets for current states\n",
    "        \n",
    "        Q_targets = rewards + (gamma * Q_targets_next * (1 - dones))\n",
    "        \n",
    "        # get expected Q values from local model\n",
    "        \n",
    "        Q_expected = self.qnetwork_local(states).gather(1, actions)\n",
    "        \n",
    "        # compute loss\n",
    "        \n",
    "        loss = F.mse_loss(Q_expected, Q_targets)\n",
    "        \n",
    "        # minimize the loss\n",
    "        \n",
    "        self.optimizer.zero_grad()\n",
    "        loss.backward()\n",
    "        self.optimizer.step()\n",
    "        \n",
    "        # update the target network\n",
    "        \n",
    "        self.soft_update(self.qnetwork_local, self.qnetwork_target, TAU)\n",
    "        \n",
    "    def soft_update(self, local_model, target_model, tau):\n",
    "        \n",
    "        # soft update model parameters\n",
    "        \n",
    "        for target_param, local_param in zip(target_model.parameters(), local_model.parameters()):\n",
    "            target_param.data.copy_(tau*local_param.data + (1.0-tau)*target_param.data)\n",
    "            "
   ]
  },
  {
   "cell_type": "markdown",
   "metadata": {},
   "source": [
    "### 8. Training the Agent"
   ]
  },
  {
   "cell_type": "markdown",
   "metadata": {},
   "source": [
    "<div class=\"alert alert-block alert-warning\">\n",
    "<b>Caution:</b> Training takes a while.  If you wish to skip training to see the fully trained agent navigate the environment, skip to section 9.<br>\n",
    "<br>\n",
    "By default, the Agent will train using a Deep Q Network with a regular replay buffer.  If you wish to train under a Double Deep Q Network, please set the 'double' parameter to 'True' in the agent.step call.  If you wish to train using a prioritized replay buffer, set the 'prio' parameter to 'True' when initializing the agent.\n",
    "</div>"
   ]
  },
  {
   "cell_type": "code",
   "execution_count": 154,
   "metadata": {},
   "outputs": [
    {
     "name": "stdout",
     "output_type": "stream",
     "text": [
      "Episode 100\tAverage Score: 0.77\n",
      "Episode 200\tAverage Score: 4.18\n",
      "Episode 300\tAverage Score: 7.54\n",
      "Episode 400\tAverage Score: 10.10\n",
      "Episode 500\tAverage Score: 12.60\n",
      "Episode 600\tAverage Score: 14.06\n",
      "Episode 700\tAverage Score: 15.18\n",
      "Episode 800\tAverage Score: 15.66\n",
      "Episode 900\tAverage Score: 16.37\n",
      "Episode 1000\tAverage Score: 16.46\n",
      "Episode 1100\tAverage Score: 16.24\n",
      "Episode 1200\tAverage Score: 16.28\n",
      "Episode 1300\tAverage Score: 16.30\n",
      "Episode 1400\tAverage Score: 16.64\n",
      "Episode 1500\tAverage Score: 16.24\n",
      "Episode 1600\tAverage Score: 16.04\n",
      "Episode 1700\tAverage Score: 16.23\n",
      "Episode 1800\tAverage Score: 16.08\n",
      "Episode 1900\tAverage Score: 15.65\n"
     ]
    },
    {
     "data": {
      "image/png": "[encoded data removed]",
      "text/plain": [
       "<Figure size 432x288 with 1 Axes>"
      ]
     },
     "metadata": {},
     "output_type": "display_data"
    }
   ],
   "source": [
    "import torch.optim as optim\n",
    "\n",
    "def dqn(n_episodes = 1900, eps_start = 1.0, eps_end = 0.01, eps_decay = 0.995):\n",
    "    \n",
    "    \"\"\"\n",
    "    Params\n",
    "    \n",
    "        n_episodes: maximum number of training episodes\n",
    "        eps_start: starting value of epsilon for epsilon-greedy action selction\n",
    "        eps_end: minimum value of epsilon\n",
    "        esp_decay: multiplicative factor per episode for decreasing epsilon\n",
    "    \"\"\"\n",
    "    \n",
    "    \n",
    "    scores = [] # list containing scores for each episode\n",
    "    scores_window = deque(maxlen = 100) # last 100 scores\n",
    "    eps = eps_start\n",
    "    agent = Agent(state_size, action_size, seed = 0, prio = True) \n",
    "        # set 'prio' to True to change from regular replay buffer to prioritized replay buffer\n",
    "\n",
    "    \n",
    "    for i_episode in range(1, n_episodes + 1):\n",
    "        env_info = env.reset(train_mode = True)[brain_name]\n",
    "        state = env_info.vector_observations[0]\n",
    "        score = 0\n",
    "        beta = BETA_START\n",
    "        i = 0\n",
    "        while True:\n",
    "            action = agent.act(state, eps)                 # select an action\n",
    "            action = np.int(action)\n",
    "            env_info = env.step(action)[brain_name]        # send the action to the environment\n",
    "            next_state = env_info.vector_observations[0]   # get the next state\n",
    "            reward = env_info.rewards[0]                   # get the reward\n",
    "            done = env_info.local_done[0]\n",
    "            agent.step(state, action, reward, next_state, done, beta, double = True)\n",
    "                # set 'double' to True to change from a Deep Q Network to a Double Deep Q Network\n",
    "            state = next_state\n",
    "            score += reward\n",
    "            i += 1\n",
    "            beta = min(1.0, BETA_START + i * (1.0 - BETA_START) / BETA_FRAMES)\n",
    "            if done:\n",
    "                    break\n",
    "        scores_window.append(score)                        # save the most recent score\n",
    "        scores.append(score)                               # save the most recent score\n",
    "        eps = max(eps_end, eps_decay*eps)                  # decrease epsilon\n",
    "        print('\\rEpisode {}\\tAverage Score: {:.2f}'.format(i_episode, np.mean(scores_window)), end = \"\")\n",
    "        if i_episode % 100 == 0:\n",
    "            print('\\rEpisode {}\\tAverage Score: {:.2f}'.format(i_episode, np.mean(scores_window)))\n",
    "        if np.mean(scores_window) >= 13.0:\n",
    "            torch.save(agent.qnetwork_local.state_dict(), 'checkpoint.pth')\n",
    "    return scores\n",
    "\n",
    "scores = dqn()\n",
    "\n",
    "# plotting the scores\n",
    "\n",
    "fig = plt.figure()\n",
    "ax = fig.add_subplot(111)\n",
    "plt.plot(np.arange(len(scores)), scores)\n",
    "plt.ylabel('Score')\n",
    "plt.xlabel('Episode #')\n",
    "plt.show()"
   ]
  },
  {
   "cell_type": "markdown",
   "metadata": {},
   "source": [
    "<div class=\"alert alert-block alert-info\">\n",
    "<b>Training Experimentation:</b> <br>\n",
    "<br>\n",
    "\n",
    "\n",
    "<b>Attempt 1:</b> Network: Deep-Q--, 2 layers [64, 64] w/no enhancement; Eps Decay-0.995; LR-.0005; GAMMA-0.99; Mean Result Last 100 Episodes- 15.62<br><br>\n",
    "<b>Attempt 2:</b> Network: Deep-Q--, 2 layers [96, 96] w/no enhancement; Eps Decay-0.990; LR-.0005; GAMMA-0.99; Mean Result Last 100 Episodes- 14.83<br>\n",
    "<b>-->Comment:</b> No improvement by adding additional nodes to hidden layers.<br><br>\n",
    "<b>Attempt 3:</b> Network: Double-Deep-Q, 2 layers [64, 64]; Eps Decay-0.990; LR-.0005; GAMMA-0.99; Mean Result Last 100 Episodes- 15.90<br>\n",
    "<b>-->Comment:</b> A slight improvement upon switching to a Double Deep-Q Network.<br><br>\n",
    "<b>Attempt 4:</b> Network: Double-Q, 3 layers [64, 64, 64]; Eps Decay-0.990; LR-.0005; GAMMA-0.99; Mean Result Last 100 Episodes- 15.88<br>\n",
    "<b>-->Comment:</b> No improvement by adding an additional layer.<br><br>\n",
    "<b>Attempt 5:</b> Network: Double-Deep-Q, 2 layers [64, 64]; Eps Decay-0.995; LR-.0005; GAMMA-0.99; Mean Result Last 100 Episodes- 16.56 <br>\n",
    "<b>-->Comment:</b> Reverting back to a decay rate of 0.995 with a Double Q Network results in another improvement.<br><br>\n",
    "<b>Attempt 6:</b> Network: Double-Deep-Q; Prioritized Buffer; 2 layers [64, 64]; Eps Decay-0.995; LR-.0005; GAMMA-0.99; Mean Result Last 100 Episodes- 15.65 <br>\n",
    "<b>-->Comment:</b> Using a prioritized replay buffer under the conditions of attempt #5 did not yield an improvement in results.<br><br>\n",
    "\n",
    "</div>"
   ]
  },
  {
   "cell_type": "markdown",
   "metadata": {},
   "source": [
    "<div class=\"alert alert-block alert-info\">\n",
    "<b>Conclusion:</b> <br>\n",
    "<br>\n",
    "The optimal agent for this environment appears to be one with a Double-Deep-Q network architecture consisting of 2 hidden layers of 64 nodes each.  An improvement on this agent was attempted by using a prioritized replay buffer but this did not yield the improved results seen in the original research.  For further improvements, the agent could incorporate a noisy network or rainbow network design.\n",
    "\n",
    "</div>"
   ]
  },
  {
   "cell_type": "markdown",
   "metadata": {},
   "source": [
    "### 9.  Watch the Trained Smart Agent"
   ]
  },
  {
   "cell_type": "code",
   "execution_count": 156,
   "metadata": {},
   "outputs": [],
   "source": [
    "agent = Agent(state_size, action_size, seed = 0)\n",
    "agent.qnetwork_local.load_state_dict(torch.load('checkpoint.pth'))\n",
    "\n",
    "env_info = env.reset(train_mode = False)[brain_name]\n",
    "state = env_info.vector_observations[0]\n",
    "\n",
    "while True:\n",
    "    action = agent.act(state, eps=0)                 # select an action\n",
    "    action = np.int(action)\n",
    "    env_info = env.step(action)[brain_name]        # send the action to the environment\n",
    "    next_state = env_info.vector_observations[0]   # get the next state\n",
    "    reward = env_info.rewards[0]                   # get the reward\n",
    "    done = env_info.local_done[0]\n",
    "    # agent.step(state, action, reward, next_state, done)\n",
    "    state = next_state\n",
    "\n",
    "    if done:\n",
    "            break"
   ]
  },
  {
   "cell_type": "code",
   "execution_count": null,
   "metadata": {},
   "outputs": [],
   "source": []
  },
  {
   "cell_type": "code",
   "execution_count": null,
   "metadata": {},
   "outputs": [],
   "source": []
  }
 ],
 "metadata": {
  "kernelspec": {
   "display_name": "Python 3",
   "language": "python",
   "name": "python3"
  },
  "language_info": {
   "codemirror_mode": {
    "name": "ipython",
    "version": 3
   },
   "file_extension": ".py",
   "mimetype": "text/x-python",
   "name": "python",
   "nbconvert_exporter": "python",
   "pygments_lexer": "ipython3",
   "version": "3.5.5"
  }
 },
 "nbformat": 4,
 "nbformat_minor": 2
}
